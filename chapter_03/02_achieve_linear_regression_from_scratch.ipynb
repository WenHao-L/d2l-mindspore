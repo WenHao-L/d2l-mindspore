{
 "cells": [
  {
   "cell_type": "markdown",
   "metadata": {},
   "source": [
    "# 3.2 线性回归的从零开始实现"
   ]
  },
  {
   "cell_type": "markdown",
   "metadata": {},
   "source": [
    "### 3.2.1 生成数据集"
   ]
  },
  {
   "cell_type": "markdown",
   "metadata": {},
   "source": [
    "为了简单起见，我们将根据带有噪声的线性模型构造一个人造数据集。我们的任务是使用这个有限样本的数据集来恢复这个模型的参数。 在下面的代码中，我们生成一个包含1000个样本的数据集，每个样本包含从标准正态分布中采样的2个特征。"
   ]
  },
  {
   "cell_type": "markdown",
   "metadata": {},
   "source": [
    "我们使用线性模型参数 $w=[2, -3.4]^\\top、b=4.2$、 和噪声项 $\\epsilon$ 生成数据集及其标签：\n",
    "\n",
    "$$y=Xw+b+\\epsilon$$\n",
    "\n",
    "你可以将 $\\epsilon$ 视为模型预测和标签时的潜在观测误差。 在这里我们认为标准假设成立，即 $\\epsilon$ 服从均值为0的正态分布。 为了简化问题，我们将标准差设为0.01。 下面的代码生成合成数据集。"
   ]
  },
  {
   "cell_type": "code",
   "execution_count": 2,
   "metadata": {},
   "outputs": [],
   "source": [
    "import random\n",
    "import mindspore as ms\n",
    "import mindspore.ops as ops\n",
    "from mindspore import Tensor\n",
    "\n",
    "def synthetic_data(w, b, num_examples):\n",
    "    \"\"\"生成y=Xw+b+噪声\"\"\"\n",
    "    X = ops.normal((num_examples, len(w)), Tensor(0, ms.int32), Tensor(1, ms.int32))\n",
    "    y = ops.matmul(X, w) + b\n",
    "    y += ops.normal(y.shape, Tensor(0, ms.int32), Tensor(0.01, ms.float32))\n",
    "    return X, y.reshape((-1, 1))\n",
    "\n",
    "true_w = Tensor([2, -3.4], ms.float32)\n",
    "true_b = 4.2\n",
    "features, labels = synthetic_data(true_w, true_b, 1000)"
   ]
  },
  {
   "cell_type": "markdown",
   "metadata": {},
   "source": [
    "注意，features中的每一行都包含一个二维数据样本， labels中的每一行都包含一维标签值（一个标量）。"
   ]
  },
  {
   "cell_type": "code",
   "execution_count": 3,
   "metadata": {},
   "outputs": [
    {
     "name": "stdout",
     "output_type": "stream",
     "text": [
      "features: [ 0.36666957 -0.73936903] \n",
      "label: [7.4508605]\n"
     ]
    }
   ],
   "source": [
    "print('features:', features[0],'\\nlabel:', labels[0])"
   ]
  },
  {
   "cell_type": "markdown",
   "metadata": {},
   "source": [
    "通过生成第二个特征features[:, 1]和labels的散点图， 可以直观观察到两者之间的线性关系。"
   ]
  },
  {
   "cell_type": "code",
   "execution_count": 4,
   "metadata": {},
   "outputs": [
    {
     "data": {
      "text/plain": [
       "<matplotlib.collections.PathCollection at 0x2def7edfd60>"
      ]
     },
     "execution_count": 4,
     "metadata": {},
     "output_type": "execute_result"
    },
    {
     "data": {
      "image/png": "[encoded data removed]",
      "text/plain": [
       "<Figure size 350x250 with 1 Axes>"
      ]
     },
     "metadata": {},
     "output_type": "display_data"
    }
   ],
   "source": [
    "from matplotlib import pyplot as plt\n",
    "\n",
    "plt.rcParams['figure.figsize'] = (3.5, 2.5)\n",
    "plt.scatter(features[:, (1)].asnumpy(), labels.asnumpy(), 1)"
   ]
  },
  {
   "cell_type": "markdown",
   "metadata": {},
   "source": [
    "### 3.2.2 读取数据集"
   ]
  },
  {
   "cell_type": "markdown",
   "metadata": {},
   "source": [
    "回想一下，训练模型时要对数据集进行遍历，每次抽取一小批量样本，并使用它们来更新我们的模型。 由于这个过程是训练机器学习算法的基础，所以有必要定义一个函数， 该函数能打乱数据集中的样本并以小批量方式获取数据。"
   ]
  },
  {
   "cell_type": "markdown",
   "metadata": {},
   "source": [
    "在下面的代码中，我们定义一个data_iter函数， 该函数接收批量大小、特征矩阵和标签向量作为输入，生成大小为batch_size的小批量。 每个小批量包含一组特征和标签。"
   ]
  },
  {
   "cell_type": "code",
   "execution_count": 5,
   "metadata": {},
   "outputs": [],
   "source": [
    "def data_iter(batch_size, features, labels):\n",
    "    num_examples = len(features)\n",
    "    indices = list(range(num_examples))\n",
    "    # 这些样本是随机读取的，没有特定的顺序\n",
    "    random.shuffle(indices)\n",
    "    for i in range(0, num_examples, batch_size):\n",
    "        batch_indices = Tensor(\n",
    "            indices[i: min(i + batch_size, num_examples)])\n",
    "        yield features[batch_indices], labels[batch_indices]"
   ]
  },
  {
   "cell_type": "markdown",
   "metadata": {},
   "source": [
    "我们直观感受一下小批量运算：读取第一个小批量数据样本并打印。 每个批量的特征维度显示批量大小和输入特征数。 同样的，批量的标签形状与batch_size相等。"
   ]
  },
  {
   "cell_type": "code",
   "execution_count": 6,
   "metadata": {},
   "outputs": [
    {
     "name": "stdout",
     "output_type": "stream",
     "text": [
      "[[ 0.54792863  0.42348784]\n",
      " [-0.9227124   0.7702285 ]\n",
      " [-1.1201844  -0.43689227]\n",
      " [-0.15301192  1.5280643 ]\n",
      " [ 0.5209222  -0.0725368 ]\n",
      " [-1.1853285  -1.1620319 ]\n",
      " [ 1.4099958   0.77902794]\n",
      " [-1.0082736  -1.5323331 ]\n",
      " [-0.04559258  0.08245143]\n",
      " [ 1.3008995  -1.0296667 ]] \n",
      " [[ 3.8586838 ]\n",
      " [-0.24199226]\n",
      " [ 3.433836  ]\n",
      " [-1.3013812 ]\n",
      " [ 5.4944253 ]\n",
      " [ 5.794819  ]\n",
      " [ 4.3703175 ]\n",
      " [ 7.3958735 ]\n",
      " [ 3.8195162 ]\n",
      " [10.298698  ]]\n"
     ]
    }
   ],
   "source": [
    "batch_size = 10\n",
    "\n",
    "for X, y in data_iter(batch_size, features, labels):\n",
    "    print(X, '\\n', y)\n",
    "    break"
   ]
  },
  {
   "cell_type": "markdown",
   "metadata": {},
   "source": [
    "当我们运行迭代时，我们会连续地获得不同的小批量，直至遍历完整个数据集。 上面实现的迭代对于教学来说很好，但它的执行效率很低，可能会在实际问题上陷入麻烦。 例如，它要求我们将所有数据加载到内存中，并执行大量的随机内存访问。 在深度学习框架中实现的内置迭代器效率要高得多， 它可以处理存储在文件中的数据和数据流提供的数据。"
   ]
  },
  {
   "cell_type": "markdown",
   "metadata": {},
   "source": [
    "---"
   ]
  },
  {
   "cell_type": "markdown",
   "metadata": {},
   "source": [
    "在我们开始用小批量随机梯度下降优化我们的模型参数之前，先简单介绍下MindSpore的动静态图。"
   ]
  },
  {
   "cell_type": "markdown",
   "metadata": {},
   "source": [
    "目前主流的深度学习框架有静态图(Graph)和动态图(PyNative)两种执行模式。\n",
    "\n",
    "静态图模式下，程序在编译执行时，首先生成神经网络的图结构，然后再执行图中涉及的计算操作。因此，在静态图模式下，编译器可以通过使用图优化等技术来获得更好的执行性能，有助于规模部署和跨平台运行。\n",
    "\n",
    "动态图模式下，程序按照代码的编写顺序逐行执行，在执行正向过程中根据反向传播的原理，动态生成反向执行图。这种模式下，编译器将神经网络中的各个算子逐一下发到设备进行计算操作，方便用户编写和调试神经网络模型。\n",
    "\n",
    "MindSpore提供了静态图和动态图统一的编码方式，静态图模式是MindSpore的默认模式，而动态图模式用于调试等用途。\n",
    "\n",
    "MindSpore的静态图思路是将整个模型视作一个完整的计算图，即模型、Loss、优化器均需要作为计算图的一部分，与PyTorch的使用习惯有些不同。\n"
   ]
  },
  {
   "cell_type": "markdown",
   "metadata": {},
   "source": [
    "#### （1）定义模型、定义模型的参数"
   ]
  },
  {
   "cell_type": "markdown",
   "metadata": {},
   "source": [
    "从均值为0、标准差为0.01的正态分布中采样随机数来初始化权重， 并将偏置初始化为0。"
   ]
  },
  {
   "cell_type": "code",
   "execution_count": 7,
   "metadata": {},
   "outputs": [],
   "source": [
    "import mindspore.nn as nn\n",
    "from mindspore import Parameter\n",
    "from mindspore.common.initializer import initializer, Zero, Normal\n",
    "\n",
    "class Net(nn.Cell):\n",
    "    def __init__(self):\n",
    "        super().__init__()\n",
    "        self.w = Parameter(initializer(Normal(0.01, 0), (2, 1), ms.float32))\n",
    "        self.b = Parameter(initializer(Zero(), 1, ms.float32))\n",
    "    \n",
    "    def linreg(self, x, w, b):\n",
    "        \"\"\"线性回归模型\"\"\"\n",
    "        return ops.matmul(x, w) + b \n",
    "\n",
    "    def construct(self, x):\n",
    "        y_hat = self.linreg(x, self.w, self.b)\n",
    "        return y_hat"
   ]
  },
  {
   "cell_type": "markdown",
   "metadata": {},
   "source": [
    "#### （2）定义损失函数"
   ]
  },
  {
   "cell_type": "code",
   "execution_count": 8,
   "metadata": {},
   "outputs": [],
   "source": [
    "class SquaredLoss(nn.Cell):\n",
    "    \"\"\"自定义损失函数SquaredLoss\"\"\"\n",
    "\n",
    "    def __init__(self):\n",
    "        \"\"\"初始化\"\"\"\n",
    "        super(SquaredLoss, self).__init__()\n",
    "\n",
    "    def construct(self, y_hat, y):\n",
    "        loss = (y_hat - y.reshape(y_hat.shape)) ** 2 / 2\n",
    "        return loss\n"
   ]
  },
  {
   "cell_type": "markdown",
   "metadata": {},
   "source": [
    "#### （3）定义 SGD 优化算法"
   ]
  },
  {
   "cell_type": "markdown",
   "metadata": {},
   "source": [
    "自定义优化器时需继承优化器基类 `nn.Optimizer`，并重写 `__init__` 方法和 `construct` 方法以自行设定参数更新策略。"
   ]
  },
  {
   "cell_type": "code",
   "execution_count": 9,
   "metadata": {},
   "outputs": [],
   "source": [
    "class SGD(nn.Optimizer):\n",
    "    \"\"\"定义优化器\"\"\"\n",
    "    def __init__(self, params, lr, batch_size):\n",
    "        super(SGD, self).__init__(lr, params, batch_size)\n",
    "        self.lr = lr\n",
    "        self.params = params\n",
    "        self.batch_size = batch_size\n",
    "        self.assign = ops.Assign()\n",
    "\n",
    "    def construct(self, gradients):\n",
    "        \"\"\"construct输入为梯度，在训练中自动传入梯度gradients\"\"\"\n",
    "        for i in range(len(self.params)):\n",
    "            self.assign(self.params[i], self.params[i] - self.lr * gradients[i] / self.batch_size)\n",
    "            # ops.Assign的作用是为网络参数赋值，因为静态图无法直接使用 w = w - lr*grads 来更新权重。\n",
    "        return self.params"
   ]
  },
  {
   "cell_type": "markdown",
   "metadata": {},
   "source": [
    "#### （4）定义训练过程"
   ]
  },
  {
   "cell_type": "markdown",
   "metadata": {},
   "source": [
    "正向传播计算结果-->反向传播计算梯度-->更新权重"
   ]
  },
  {
   "cell_type": "code",
   "execution_count": 10,
   "metadata": {},
   "outputs": [],
   "source": [
    "class TrainOneStepCell(nn.Cell):\n",
    "    def __init__(self, network, optimizer):\n",
    "        super().__init__()\n",
    "        self.network = network\n",
    "        self.optimizer = optimizer\n",
    "        self.grad = ops.GradOperation(get_by_list=True)\n",
    "        \n",
    "    def construct(self, x, y):\n",
    "        loss = self.network(x, y)\n",
    "        grads = self.grad(self.network, self.optimizer.parameters)(x, y)\n",
    "        self.optimizer(grads)\n",
    "        return loss"
   ]
  },
  {
   "cell_type": "code",
   "execution_count": 11,
   "metadata": {},
   "outputs": [
    {
     "name": "stdout",
     "output_type": "stream",
     "text": [
      "epoch 1, loss 2.227204\n",
      "epoch 2, loss 0.300489\n",
      "epoch 3, loss 0.040628\n",
      "epoch 4, loss 0.005545\n",
      "epoch 5, loss 0.000791\n",
      "epoch 6, loss 0.000148\n",
      "epoch 7, loss 0.000061\n",
      "epoch 8, loss 0.000049\n",
      "epoch 9, loss 0.000048\n",
      "epoch 10, loss 0.000047\n"
     ]
    }
   ],
   "source": [
    "lr = 0.01\n",
    "num_epochs = 10\n",
    "# 实例化前向网络\n",
    "net = Net()\n",
    "# 设定损失函数并连接前向网络与损失函数\n",
    "loss = SquaredLoss()\n",
    "# 连接前向网络与损失函数\n",
    "net_with_loss = nn.WithLossCell(net, loss)\n",
    "# 设定优化器\n",
    "optimer = SGD(net.trainable_params(), lr, batch_size)\n",
    "# 定义训练网络，封装网络和优化器\n",
    "train = TrainOneStepCell(net_with_loss, optimer)\n",
    "train.set_train()\n",
    "\n",
    "for epoch in range(num_epochs):\n",
    "    for x, y in data_iter(batch_size, features, labels):\n",
    "        l = train(x, y)\n",
    "    train_l = net_with_loss(features, labels)\n",
    "    print(f'epoch {epoch + 1}, loss {float(train_l.mean().asnumpy()):f}')"
   ]
  },
  {
   "cell_type": "markdown",
   "metadata": {},
   "source": [
    "通过比较真实参数和通过训练学到的参数来评估训练的成功程度。 事实上，真实参数和通过训练学到的参数确实非常接近。"
   ]
  },
  {
   "cell_type": "code",
   "execution_count": 12,
   "metadata": {},
   "outputs": [
    {
     "name": "stdout",
     "output_type": "stream",
     "text": [
      "w的估计误差: [-0.00027752 -0.00070596]\n",
      "b的估计误差: [0.00053358]\n"
     ]
    }
   ],
   "source": [
    "print(f'w的估计误差: {true_w - net.trainable_params()[0].reshape(true_w.shape)}')\n",
    "print(f'b的估计误差: {true_b - net.trainable_params()[1]}')"
   ]
  }
 ],
 "metadata": {
  "kernelspec": {
   "display_name": "Python 3.8.13 ('ms1.7')",
   "language": "python",
   "name": "python3"
  },
  "language_info": {
   "codemirror_mode": {
    "name": "ipython",
    "version": 3
   },
   "file_extension": ".py",
   "mimetype": "text/x-python",
   "name": "python",
   "nbconvert_exporter": "python",
   "pygments_lexer": "ipython3",
   "version": "3.8.13"
  },
  "orig_nbformat": 4,
  "vscode": {
   "interpreter": {
    "hash": "0d9ecb6aeb069cd3d71c44b4be723907f5debcf2be3507d56b5d11fb280c6fe5"
   }
  }
 },
 "nbformat": 4,
 "nbformat_minor": 2
}
