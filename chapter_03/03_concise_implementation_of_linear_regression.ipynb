{
 "cells": [
  {
   "cell_type": "markdown",
   "metadata": {},
   "source": [
    "# 3.3 线性回归的简洁实现"
   ]
  },
  {
   "cell_type": "markdown",
   "metadata": {},
   "source": [
    "在本节中，我们将介绍如何通过使用深度学习框架 `MindSpore` 来简洁地实现3.2节中的线性回归模型。"
   ]
  },
  {
   "cell_type": "markdown",
   "metadata": {},
   "source": [
    "### 3.3.1 ~ 3.3.2 生成和读取数据集"
   ]
  },
  {
   "cell_type": "markdown",
   "metadata": {},
   "source": [
    "mindspore.dataset提供了部分常用数据集和标准格式数据集的加载接口。对于MindSpore暂不支持直接加载的数据集，可以通过构造自定义数据集类或自定义数据集生成函数的方式来生成数据集，然后通过mindspore.dataset.GeneratorDataset接口实现自定义方式的数据集加载。"
   ]
  },
  {
   "cell_type": "markdown",
   "metadata": {},
   "source": [
    "在用户自定义数据集类中须要自定义的类函数如下：\n",
    "\n",
    "`__init__`：定义数据初始化等操作，在实例化数据集对象时被调用。\n",
    "\n",
    "`__getitem__`：定义该函数后可使其支持随机访问，能够根据给定的索引值index，获取数据集中的数据并返回。数据返回值类型是由`NumPy数组组成的Tuple`。\n",
    "\n",
    "`__len__`：返回数据集的样本数量。\n",
    "\n",
    "在完成自定义数据集类之后，可以通过GeneratorDataset接口按照用户定义的方式加载并访问数据集样本。"
   ]
  },
  {
   "cell_type": "code",
   "execution_count": 1,
   "metadata": {},
   "outputs": [
    {
     "data": {
      "text/plain": [
       "[Tensor(shape=[10, 2], dtype=Float32, value=\n",
       " [[2.03820133e+000, 3.46018106e-001],\n",
       "  [-2.46061158e+000, 8.58924806e-001],\n",
       "  [2.68145293e-001, -5.11002839e-001],\n",
       "  ...\n",
       "  [2.55166006e+000, -2.10053772e-001],\n",
       "  [-3.04733604e-001, -1.05280924e+000],\n",
       "  [-7.93688744e-003, -4.06326912e-002]]),\n",
       " Tensor(shape=[10, 1], dtype=Float32, value=\n",
       " [[7.09302092e+000],\n",
       "  [-3.63361025e+000],\n",
       "  [6.46829653e+000],\n",
       "  ...\n",
       "  [1.00384464e+001],\n",
       "  [7.16260481e+000],\n",
       "  [4.32362318e+000]])]"
      ]
     },
     "execution_count": 1,
     "metadata": {},
     "output_type": "execute_result"
    }
   ],
   "source": [
    "import mindspore as ms\n",
    "import mindspore.ops as ops\n",
    "import mindspore.dataset as ds\n",
    "from mindspore import Tensor\n",
    "\n",
    "class SyntheticData():\n",
    "    def __init__(self, true_w, true_b):\n",
    "        self.data, self.label = self.synthetic_data(true_w, true_b, 1000)\n",
    "\n",
    "    def __getitem__(self, index):\n",
    "        return self.data[index], self.label[index]\n",
    "    \n",
    "    def __len__(self):\n",
    "        return len(self.label)\n",
    "\n",
    "    def synthetic_data(self, w, b, num_examples):\n",
    "        \"\"\"生成y=Xw+b+噪声\"\"\"\n",
    "        X = ops.normal((num_examples, len(w)), Tensor(0, ms.int32), Tensor(1, ms.int32))\n",
    "        y = ops.matmul(X, w) + b\n",
    "        y += ops.normal(y.shape, Tensor(0, ms.int32), Tensor(0.01, ms.float32))\n",
    "        return X.asnumpy(), y.reshape((-1, 1)).asnumpy()\n",
    "\n",
    "def load_array(dataset_generator, column_names, batch_size, is_train=True):  \n",
    "    \"\"\"构造一个MindSpore数据迭代器。\"\"\"\n",
    "    dataset = ds.GeneratorDataset(dataset_generator, column_names, shuffle=is_train)\n",
    "    dataset = dataset.batch(batch_size)\n",
    "    return dataset\n",
    "\n",
    "true_w = Tensor([2, -3.4], dtype=ms.float32)\n",
    "true_b = Tensor(4.2, dtype=ms.float32)\n",
    "batch_size = 10\n",
    "dataset_generator = SyntheticData(true_w, true_b)\n",
    "dataset = load_array(dataset_generator, [\"data\", \"label\"], batch_size)\n",
    "\n",
    "next(iter(dataset))\n"
   ]
  },
  {
   "cell_type": "markdown",
   "metadata": {},
   "source": [
    "### 3.3.3 ~ 3.3.4  定义模型并初始化模型参数"
   ]
  },
  {
   "cell_type": "code",
   "execution_count": 2,
   "metadata": {},
   "outputs": [],
   "source": [
    "import mindspore.nn as nn\n",
    "from mindspore.common.initializer import Normal\n",
    "\n",
    "net = nn.SequentialCell([nn.Dense(2, 1, weight_init=Normal(0.01, 0), bias_init='zero')])"
   ]
  },
  {
   "cell_type": "markdown",
   "metadata": {},
   "source": [
    "### 3.3.5 定义损失函数"
   ]
  },
  {
   "cell_type": "markdown",
   "metadata": {},
   "source": [
    "计算均方误差使用的是 `MSELoss` 类，也称为平方 $L_2$ 范数。 默认情况下，它返回所有样本损失的平均值。"
   ]
  },
  {
   "cell_type": "code",
   "execution_count": 3,
   "metadata": {},
   "outputs": [],
   "source": [
    "loss = nn.MSELoss()"
   ]
  },
  {
   "cell_type": "markdown",
   "metadata": {},
   "source": [
    "将 net 与 loss 连接。"
   ]
  },
  {
   "cell_type": "code",
   "execution_count": 4,
   "metadata": {},
   "outputs": [],
   "source": [
    "net_with_loss = nn.WithLossCell(net, loss)"
   ]
  },
  {
   "cell_type": "markdown",
   "metadata": {},
   "source": [
    "### 3.3.6 定义优化算法"
   ]
  },
  {
   "cell_type": "code",
   "execution_count": 5,
   "metadata": {},
   "outputs": [],
   "source": [
    "optimer = nn.SGD(net.trainable_params(), learning_rate=0.03)"
   ]
  },
  {
   "cell_type": "markdown",
   "metadata": {},
   "source": [
    "### 3.3.7 训练"
   ]
  },
  {
   "cell_type": "code",
   "execution_count": 6,
   "metadata": {},
   "outputs": [
    {
     "name": "stdout",
     "output_type": "stream",
     "text": [
      "epoch 1, loss 0.000224\n",
      "epoch 2, loss 0.000095\n",
      "epoch 3, loss 0.000095\n"
     ]
    }
   ],
   "source": [
    "trainer = nn.TrainOneStepCell(net_with_loss, optimer)\n",
    "num_epochs = 3\n",
    "dataset_iter = dataset.create_tuple_iterator(num_epochs=num_epochs)\n",
    "for epoch in range(num_epochs):\n",
    "    for data in dataset_iter:\n",
    "        l = trainer(*data)\n",
    "    l = net_with_loss(ms.Tensor(dataset_generator.data), ms.Tensor(dataset_generator.label))\n",
    "    print(f'epoch {epoch + 1}, loss {l.asnumpy():f}')"
   ]
  },
  {
   "cell_type": "markdown",
   "metadata": {},
   "source": [
    "比较生成数据集的真实参数和通过有限数据训练获得的模型参数。"
   ]
  },
  {
   "cell_type": "code",
   "execution_count": 8,
   "metadata": {},
   "outputs": [
    {
     "name": "stdout",
     "output_type": "stream",
     "text": [
      "w的估计误差:  [-0.00043845 -0.00021815]\n",
      "b的估计误差:  [-0.00012636]\n"
     ]
    }
   ],
   "source": [
    "w = net[0].weight.data\n",
    "print('w的估计误差: ', true_w - w.reshape(true_w.shape))\n",
    "b = net[0].bias.data\n",
    "print('b的估计误差: ', true_b - b)"
   ]
  }
 ],
 "metadata": {
  "kernelspec": {
   "display_name": "Python 3.8.13 ('ms1.7')",
   "language": "python",
   "name": "python3"
  },
  "language_info": {
   "name": "python",
   "version": "3.8.13"
  },
  "orig_nbformat": 4,
  "vscode": {
   "interpreter": {
    "hash": "0d9ecb6aeb069cd3d71c44b4be723907f5debcf2be3507d56b5d11fb280c6fe5"
   }
  }
 },
 "nbformat": 4,
 "nbformat_minor": 2
}
