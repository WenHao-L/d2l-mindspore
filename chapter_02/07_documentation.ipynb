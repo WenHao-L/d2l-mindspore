{
 "cells": [
  {
   "cell_type": "markdown",
   "metadata": {},
   "source": [
    "# 2.7 查阅文档 "
   ]
  },
  {
   "cell_type": "markdown",
   "metadata": {},
   "source": [
    "为了知道模块中可以调用哪些函数和类，我们调用 `dir` 函数。 例如，我们可以查询 `mindspore.Tensor` 中的所有属性："
   ]
  },
  {
   "cell_type": "code",
   "execution_count": 1,
   "metadata": {},
   "outputs": [
    {
     "name": "stdout",
     "output_type": "stream",
     "text": [
      "['T', '__abs__', '__add__', '__bool__', '__class__', '__deepcopy__', '__delattr__', '__dict__', '__dir__', '__doc__', '__eq__', '__float__', '__floordiv__', '__format__', '__ge__', '__getattribute__', '__getitem__', '__getstate__', '__gt__', '__hash__', '__iadd__', '__ifloordiv__', '__imod__', '__imul__', '__index__', '__init__', '__init_subclass__', '__int__', '__invert__', '__isub__', '__le__', '__len__', '__lt__', '__mod__', '__module__', '__mul__', '__ne__', '__neg__', '__new__', '__pos__', '__pow__', '__radd__', '__reduce__', '__reduce_ex__', '__repr__', '__rfloordiv__', '__rmod__', '__rmul__', '__rsub__', '__rtruediv__', '__setattr__', '__setitem__', '__setstate__', '__sizeof__', '__str__', '__sub__', '__subclasshook__', '__truediv__', '_convert_scalar_', '_dtype', '_flush_from_cache', '_init_check', '_itemsize', '_nbytes', '_set_default_dtype', '_shape', '_size', '_strides', 'abs', 'all', 'any', 'argmax', 'argmin', 'asnumpy', 'assign_value', 'assign_value_cpp', 'astype', 'choose', 'clip', 'copy', 'cumsum', 'data_sync', 'diagonal', 'dim', 'dtype', 'expand_as', 'expand_dims', 'fill', 'flatten', 'flush_from_cache', 'from_numpy', 'has_init', 'init_data', 'init_flag', 'is_init', 'item', 'itemset', 'itemsize', 'masked_fill', 'max', 'mean', 'min', 'narrow', 'nbytes', 'ndim', 'param_info', 'ptp', 'ravel', 'repeat', 'reshape', 'resize', 'searchsorted', 'set_cast_dtype', 'set_dtype', 'set_init_flag', 'shape', 'size', 'squeeze', 'std', 'strides', 'sum', 'swapaxes', 'take', 'to_tensor', 'trace', 'transpose', 'var', 'view']\n"
     ]
    }
   ],
   "source": [
    "import mindspore\n",
    "\n",
    "print(dir(mindspore.Tensor))"
   ]
  },
  {
   "cell_type": "markdown",
   "metadata": {},
   "source": [
    "通常，我们可以忽略以“__”（双下划线）开始和结束的函数（它们是Python中的特殊对象）， 或以单个“_”（单下划线）开始的函数（它们通常是内部函数）。"
   ]
  },
  {
   "cell_type": "markdown",
   "metadata": {},
   "source": [
    "查找给定函数或类的更具体说明，我们可以调用 `help` 函数。 例如，我们来查看张量 `ones` 函数的用法。"
   ]
  },
  {
   "cell_type": "code",
   "execution_count": 2,
   "metadata": {},
   "outputs": [
    {
     "name": "stdout",
     "output_type": "stream",
     "text": [
      "Help on function ones in module mindspore.numpy.array_creations:\n",
      "\n",
      "ones(shape, dtype=mindspore.float32)\n",
      "    Returns a new tensor of given shape and type, filled with ones.\n",
      "    \n",
      "    Args:\n",
      "        shape (Union[int, tuple, list]): the shape of the new tensor.\n",
      "        dtype (Union[:class:`mindspore.dtype`, str], optional): Designated tensor dtype.\n",
      "            Default is :class:`mstype.float32`.\n",
      "    \n",
      "    Returns:\n",
      "        Tensor, with the designated `shape` and `dtype`, filled with ones.\n",
      "    \n",
      "    Raises:\n",
      "        TypeError: If input arguments have types not specified above.\n",
      "        ValueError: If `shape` entries have values :math:`< 0`.\n",
      "    \n",
      "    Supported Platforms:\n",
      "        ``Ascend`` ``GPU`` ``CPU``\n",
      "    \n",
      "    Examples:\n",
      "        >>> import mindspore.numpy as np\n",
      "        >>> print(np.ones((2,2)))\n",
      "        [[1. 1.]\n",
      "        [1. 1.]]\n",
      "\n"
     ]
    }
   ],
   "source": [
    "import mindspore.numpy as mnp\n",
    "\n",
    "help(mnp.ones)"
   ]
  },
  {
   "cell_type": "markdown",
   "metadata": {},
   "source": [
    "我们可以看到 `ones` 函数创建一个具有指定形状的新张量，并将所有元素值设置为1。 让我们来运行一个快速测试来确认这一解释："
   ]
  },
  {
   "cell_type": "code",
   "execution_count": 3,
   "metadata": {},
   "outputs": [
    {
     "data": {
      "text/plain": [
       "Tensor(shape=[4], dtype=Float32, value= [1.00000000e+000, 1.00000000e+000, 1.00000000e+000, 1.00000000e+000])"
      ]
     },
     "execution_count": 3,
     "metadata": {},
     "output_type": "execute_result"
    }
   ],
   "source": [
    "mnp.ones(4)"
   ]
  }
 ],
 "metadata": {
  "kernelspec": {
   "display_name": "Python 3.8.13 ('ms1.7')",
   "language": "python",
   "name": "python3"
  },
  "language_info": {
   "codemirror_mode": {
    "name": "ipython",
    "version": 3
   },
   "file_extension": ".py",
   "mimetype": "text/x-python",
   "name": "python",
   "nbconvert_exporter": "python",
   "pygments_lexer": "ipython3",
   "version": "3.8.13"
  },
  "orig_nbformat": 4,
  "vscode": {
   "interpreter": {
    "hash": "0d9ecb6aeb069cd3d71c44b4be723907f5debcf2be3507d56b5d11fb280c6fe5"
   }
  }
 },
 "nbformat": 4,
 "nbformat_minor": 2
}
